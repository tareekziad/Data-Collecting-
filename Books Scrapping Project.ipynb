{
 "cells": [
  {
   "cell_type": "markdown",
   "metadata": {},
   "source": [
    "# Books Scraping Project\n",
    "* Scrap the books (name, price, rate, category_name) for each category and put them into a CSV & Excel file\n",
    "* https://books.toscrape.com/"
   ]
  },
  {
   "cell_type": "markdown",
   "metadata": {},
   "source": [
    "#### Import some helper modules"
   ]
  },
  {
   "cell_type": "code",
   "execution_count": 4,
   "metadata": {},
   "outputs": [],
   "source": [
    "import os\n",
    "import time\n",
    "from datetime import datetime\n",
    "from bs4 import BeautifulSoup\n",
    "import requests\n",
    "import re\n",
    "import csv \n",
    "import json\n",
    "import openpyxl\n",
    "import sqlite3"
   ]
  },
  {
   "cell_type": "markdown",
   "metadata": {},
   "source": [
    "#### Get category name and it's url \n",
    "* cat_link is a dict has category {name : url} "
   ]
  },
  {
   "cell_type": "code",
   "execution_count": 5,
   "metadata": {},
   "outputs": [
    {
     "data": {
      "text/plain": [
       "'https://books.toscrape.com/catalogue/category/books/travel_2/index.html'"
      ]
     },
     "execution_count": 5,
     "metadata": {},
     "output_type": "execute_result"
    }
   ],
   "source": [
    "page_url = 'https://books.toscrape.com/'\n",
    "req = requests.get('https://books.toscrape.com/')\n",
    "soup = BeautifulSoup(req.content)\n",
    "body = soup.body\n",
    "cat_list = body.find('ul' , {'class':\"nav nav-list\"}).find('ul').find_all('li')\n",
    "cat_link = {li.find('a').text.strip():page_url+li.find('a').attrs['href'] for li in cat_list}\n",
    "cat_link['Travel']"
   ]
  },
  {
   "cell_type": "markdown",
   "metadata": {},
   "source": [
    "#### Save Data in Database\n",
    "* save categories in categories table \n",
    "* categories table contains 2 coloumns (cat_id -- > category id , cat_name -- > category name)"
   ]
  },
  {
   "cell_type": "code",
   "execution_count": 3,
   "metadata": {},
   "outputs": [],
   "source": [
    "conn = sqlite3.connect('BooksInfo.db')\n",
    "qry = 'insert into categories (cat_name) values (?)'\n",
    "for k , val in cat_link.items():\n",
    "    conn.execute(qry , [k])\n",
    "conn.commit()\n",
    "conn.close()"
   ]
  },
  {
   "cell_type": "markdown",
   "metadata": {},
   "source": [
    "#### Scrape Process\n",
    "* scrape function take url as input\n",
    "* return (name , rate , price) for all books in any category\n",
    "* if there are another pages in category return link of next page "
   ]
  },
  {
   "cell_type": "code",
   "execution_count": 6,
   "metadata": {},
   "outputs": [],
   "source": [
    "def scrape (url):\n",
    "    trans_rate = {'One' : '1' , 'Two' : '2' , 'Three' : '3' , 'Four' : '4' , 'Five' : '5'}\n",
    "    req = requests.get(url)\n",
    "    soup = BeautifulSoup(req.content , 'html.parser')\n",
    "    body = soup.body\n",
    "    books_info = body.find_all('li',{'class':\"col-xs-6 col-sm-4 col-md-3 col-lg-3\"})\n",
    "    names = [book.find('div' , {'class' : \"image_container\"}).find('img').attrs['alt'] \n",
    "             for book in books_info]\n",
    "    rates = [book.find('p' , {'class' : 'star-rating'}).attrs['class'][1] \n",
    "             for book in books_info]\n",
    "    encoded_rates = [trans_rate[rate] for rate in rates]\n",
    "    price = [book.find('p' , {'class':\"price_color\"}).text.split('£')[1] \n",
    "             for book in books_info]\n",
    "    next_bottun = body.find('li' , {'class':\"next\"})\n",
    "    anchor = next_bottun.find('a').attrs['href'] if next_bottun != None else ''\n",
    "    return names , encoded_rates , price , anchor\n",
    "#scrape(cat_link['Mystery'])"
   ]
  },
  {
   "cell_type": "markdown",
   "metadata": {},
   "source": [
    "#### save books info in CSV file\n",
    "* write category name , book name , rate , price "
   ]
  },
  {
   "cell_type": "code",
   "execution_count": 7,
   "metadata": {},
   "outputs": [],
   "source": [
    "def write_csv (cat ,names , encoded_rates , price):\n",
    "    fn = ['Category' ,'Name' , 'Rate' , 'Price']\n",
    "    m = 'w' if not os.path.exists('Books.csv') else 'a'\n",
    "    with open('Books.csv' , m , newline='') as f :\n",
    "        writer = csv.DictWriter(f , fieldnames=fn)\n",
    "        if m == 'w':\n",
    "            writer.writeheader()\n",
    "        for nam , rat , pric in zip(names , encoded_rates , price):\n",
    "            writer.writerow({'Category':cat ,'Name' : nam , 'Rate' : rat , 'Price' : pric})"
   ]
  },
  {
   "cell_type": "markdown",
   "metadata": {},
   "source": [
    "#### Save books info into excel file \n",
    "* write category name , book name , rate , price "
   ]
  },
  {
   "cell_type": "code",
   "execution_count": 8,
   "metadata": {},
   "outputs": [],
   "source": [
    "def write_xl(cat ,names , encoded_rates , price):\n",
    "    fn = ['Category' ,'Name' , 'Rate' , 'Price']\n",
    "    if not os.path.exists('Books.xlsx'):\n",
    "        wb = openpyxl.Workbook()\n",
    "        sheet = wb.active\n",
    "        row , col = sheet.max_row , sheet.max_column\n",
    "        for i in fn:\n",
    "            sheet.cell(row , col ).value = i\n",
    "            col += 1\n",
    "        wb.save('Books.xlsx')\n",
    "    wb = openpyxl.load_workbook('Books.xlsx')\n",
    "    sheet = wb.active\n",
    "    row = sheet.max_row + 1\n",
    "    for nam , rat , pric in zip(names , encoded_rates , price):\n",
    "        sheet.cell(row , 1).value = cat\n",
    "        sheet.cell(row , 2).value = nam\n",
    "        sheet.cell(row , 3).value = rat\n",
    "        sheet.cell(row , 4).value = pric\n",
    "        row += 1\n",
    "    wb.save('Books.xlsx')"
   ]
  },
  {
   "cell_type": "markdown",
   "metadata": {},
   "source": [
    "#### Save books info into database\n",
    "* books table contain 3 coloumns \n",
    "* book id , name , rate , price and cat_id as foriegn key from table categories"
   ]
  },
  {
   "cell_type": "code",
   "execution_count": 26,
   "metadata": {},
   "outputs": [],
   "source": [
    "def write_database(cat ,names , encoded_rates , price):\n",
    "    qry = 'select cat_id from categories where cat_name = (?)'\n",
    "    conn = sqlite3.connect('BooksInfo.db')\n",
    "    cat_id = conn.execute(qry , [cat]).fetchall()[0][0]\n",
    "    qry = 'insert into books (book_name , book_price , book_rate , cat_id) values(?,?,?,?)'\n",
    "    for nam , pric , rat in zip(names , price , encoded_rates):\n",
    "        conn.execute(qry , [nam , pric , rat , cat_id])\n",
    "    conn.commit()\n",
    "    conn.close()"
   ]
  },
  {
   "cell_type": "markdown",
   "metadata": {},
   "source": [
    "#### Scraping Engine \n",
    "* Iterate on each category and scrape books info \n",
    "* if there are anthor pages get the next bage url to scrape it \n",
    "* then save books info in CSV & excel files "
   ]
  },
  {
   "cell_type": "code",
   "execution_count": 28,
   "metadata": {},
   "outputs": [
    {
     "name": "stdout",
     "output_type": "stream",
     "text": [
      "Mystery    page-2.html\n",
      "https://books.toscrape.com/catalogue/category/books/mystery_3/page-2.html\n",
      "Historical Fiction    page-2.html\n",
      "https://books.toscrape.com/catalogue/category/books/historical-fiction_4/page-2.html\n",
      "Sequential Art    page-2.html\n",
      "https://books.toscrape.com/catalogue/category/books/sequential-art_5/page-2.html\n",
      "Sequential Art    page-3.html\n",
      "https://books.toscrape.com/catalogue/category/books/sequential-art_5/page-3.html\n",
      "Sequential Art    page-4.html\n",
      "https://books.toscrape.com/catalogue/category/books/sequential-art_5/page-4.html\n",
      "Romance    page-2.html\n",
      "https://books.toscrape.com/catalogue/category/books/romance_8/page-2.html\n",
      "Fiction    page-2.html\n",
      "https://books.toscrape.com/catalogue/category/books/fiction_10/page-2.html\n",
      "Fiction    page-3.html\n",
      "https://books.toscrape.com/catalogue/category/books/fiction_10/page-3.html\n",
      "Fiction    page-4.html\n",
      "https://books.toscrape.com/catalogue/category/books/fiction_10/page-4.html\n",
      "Childrens    page-2.html\n",
      "https://books.toscrape.com/catalogue/category/books/childrens_11/page-2.html\n",
      "Nonfiction    page-2.html\n",
      "https://books.toscrape.com/catalogue/category/books/nonfiction_13/page-2.html\n",
      "Nonfiction    page-3.html\n",
      "https://books.toscrape.com/catalogue/category/books/nonfiction_13/page-3.html\n",
      "Nonfiction    page-4.html\n",
      "https://books.toscrape.com/catalogue/category/books/nonfiction_13/page-4.html\n",
      "Nonfiction    page-5.html\n",
      "https://books.toscrape.com/catalogue/category/books/nonfiction_13/page-5.html\n",
      "Nonfiction    page-6.html\n",
      "https://books.toscrape.com/catalogue/category/books/nonfiction_13/page-6.html\n",
      "Default    page-2.html\n",
      "https://books.toscrape.com/catalogue/category/books/default_15/page-2.html\n",
      "Default    page-3.html\n",
      "https://books.toscrape.com/catalogue/category/books/default_15/page-3.html\n",
      "Default    page-4.html\n",
      "https://books.toscrape.com/catalogue/category/books/default_15/page-4.html\n",
      "Default    page-5.html\n",
      "https://books.toscrape.com/catalogue/category/books/default_15/page-5.html\n",
      "Default    page-6.html\n",
      "https://books.toscrape.com/catalogue/category/books/default_15/page-6.html\n",
      "Default    page-7.html\n",
      "https://books.toscrape.com/catalogue/category/books/default_15/page-7.html\n",
      "Default    page-8.html\n",
      "https://books.toscrape.com/catalogue/category/books/default_15/page-8.html\n",
      "Add a comment    page-2.html\n",
      "https://books.toscrape.com/catalogue/category/books/add-a-comment_18/page-2.html\n",
      "Add a comment    page-3.html\n",
      "https://books.toscrape.com/catalogue/category/books/add-a-comment_18/page-3.html\n",
      "Add a comment    page-4.html\n",
      "https://books.toscrape.com/catalogue/category/books/add-a-comment_18/page-4.html\n",
      "Fantasy    page-2.html\n",
      "https://books.toscrape.com/catalogue/category/books/fantasy_19/page-2.html\n",
      "Fantasy    page-3.html\n",
      "https://books.toscrape.com/catalogue/category/books/fantasy_19/page-3.html\n",
      "Young Adult    page-2.html\n",
      "https://books.toscrape.com/catalogue/category/books/young-adult_21/page-2.html\n",
      "Young Adult    page-3.html\n",
      "https://books.toscrape.com/catalogue/category/books/young-adult_21/page-3.html\n",
      "Food and Drink    page-2.html\n",
      "https://books.toscrape.com/catalogue/category/books/food-and-drink_33/page-2.html\n"
     ]
    }
   ],
   "source": [
    "for cat , url in cat_link.items():\n",
    "    names , encoded_rates , price , anchor = scrape(url)\n",
    "    if anchor == '':\n",
    "        #write_csv(cat ,names , encoded_rates , price)\n",
    "        #write_xl(cat ,names , encoded_rates , price)\n",
    "        write_database(cat ,names , encoded_rates , price)\n",
    "    else:\n",
    "        #print(cat, '  ',anchor)\n",
    "        #write_csv(cat ,names , encoded_rates , price)\n",
    "        #write_xl(cat ,names , encoded_rates , price)\n",
    "        write_database(cat ,names , encoded_rates , price)\n",
    "        while anchor != '':\n",
    "            print(cat, '  ',anchor)\n",
    "            new_url = url.replace('index',anchor.split('.')[0])\n",
    "            print(new_url)\n",
    "            names , encoded_rates , price , anchor = scrape(new_url)\n",
    "            #write_csv(cat ,names , encoded_rates , price)\n",
    "            #write_xl(cat ,names , encoded_rates , price)\n",
    "            write_database(cat ,names , encoded_rates , price)"
   ]
  },
  {
   "cell_type": "code",
   "execution_count": 3,
   "metadata": {},
   "outputs": [],
   "source": [
    "#os.remove('Books.csv')\n",
    "#os.remove('Books.xlsx')"
   ]
  },
  {
   "cell_type": "code",
   "execution_count": 54,
   "metadata": {},
   "outputs": [],
   "source": [
    "#!Books.csv\n",
    "#!Books.xlsx"
   ]
  },
  {
   "cell_type": "code",
   "execution_count": null,
   "metadata": {},
   "outputs": [],
   "source": []
  }
 ],
 "metadata": {
  "kernelspec": {
   "display_name": "Python 3",
   "language": "python",
   "name": "python3"
  },
  "language_info": {
   "codemirror_mode": {
    "name": "ipython",
    "version": 3
   },
   "file_extension": ".py",
   "mimetype": "text/x-python",
   "name": "python",
   "nbconvert_exporter": "python",
   "pygments_lexer": "ipython3",
   "version": "3.7.6"
  }
 },
 "nbformat": 4,
 "nbformat_minor": 4
}
