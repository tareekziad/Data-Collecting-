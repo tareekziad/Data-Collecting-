{
 "cells": [
  {
   "cell_type": "markdown",
   "metadata": {},
   "source": [
    "* Use this web service\n",
    "* https://www.metaweather.com/api/location/1521894/\n",
    "* one time for 3 different days in this week\n",
    "* and make a program that get the weather temperature, humidity, visibility, air pressure, wind  * speed & datetime and save each day data in a CSV & Excel file."
   ]
  },
  {
   "cell_type": "markdown",
   "metadata": {},
   "source": [
    "#### import some helper modules"
   ]
  },
  {
   "cell_type": "code",
   "execution_count": 2,
   "metadata": {},
   "outputs": [],
   "source": [
    "import os\n",
    "from bs4 import BeautifulSoup\n",
    "import requests \n",
    "import json\n",
    "import csv \n",
    "import xlwt\n",
    "import time\n",
    "from datetime import datetime\n",
    "import openpyxl"
   ]
  },
  {
   "cell_type": "markdown",
   "metadata": {},
   "source": [
    "#### Make request to API"
   ]
  },
  {
   "cell_type": "code",
   "execution_count": 3,
   "metadata": {},
   "outputs": [],
   "source": [
    "req = requests.get('https://www.metaweather.com/api/location/1521894/')"
   ]
  },
  {
   "cell_type": "markdown",
   "metadata": {},
   "source": [
    "#### Load Data in json format"
   ]
  },
  {
   "cell_type": "code",
   "execution_count": 4,
   "metadata": {},
   "outputs": [
    {
     "name": "stdout",
     "output_type": "stream",
     "text": [
      "['2022-03-15', '16:25:39']\n"
     ]
    }
   ],
   "source": [
    "data = json.loads(req.content)\n",
    "TodayWeather = data['consolidated_weather'][0]\n",
    "time = data['time'].split('.')[0].split('T')\n",
    "print(time)"
   ]
  },
  {
   "cell_type": "markdown",
   "metadata": {},
   "source": [
    "#### Get weather data we need"
   ]
  },
  {
   "cell_type": "code",
   "execution_count": 5,
   "metadata": {},
   "outputs": [
    {
     "data": {
      "text/plain": [
       "['Heavy Cloud',\n",
       " 40,\n",
       " 10.406103356398631,\n",
       " 1020.0,\n",
       " 10.039158488880936,\n",
       " '2022-03-15',\n",
       " '16:25:39']"
      ]
     },
     "execution_count": 5,
     "metadata": {},
     "output_type": "execute_result"
    }
   ],
   "source": [
    "#weather temperature, humidity, visibility, air pressure, wind * speed & datetime\n",
    "#DateNow = datetime.now().strftime(\"%a %d/%B/%Y %I:%M:%S%p\").split()\n",
    "WeatherInfo = [TodayWeather['weather_state_name'] , TodayWeather['humidity'] ,\n",
    "               TodayWeather['visibility'] ,TodayWeather ['air_pressure'] \n",
    "               ,TodayWeather ['wind_speed'] ,time[0] , time[1]]\n",
    "WeatherInfo"
   ]
  },
  {
   "cell_type": "markdown",
   "metadata": {},
   "source": [
    "#### Save weather data in csv file "
   ]
  },
  {
   "cell_type": "code",
   "execution_count": 6,
   "metadata": {},
   "outputs": [],
   "source": [
    "FieldsNames = ['Temperature' , 'Humidity' , 'Visibility' , 'Air_Pressure' , 'Wind_Speed' , \n",
    "               'date' , 'time']\n",
    "m , flag = ('w' , False) if not os.path.exists('Weather Today.csv') else ('a' , True)\n",
    "with open('Weather Today.csv' , m , newline='')as file:\n",
    "    writer = csv.DictWriter(file ,fieldnames=FieldsNames)\n",
    "    if flag == False:writer.writeheader()\n",
    "    writer.writerow({k : val for k , val in zip(FieldsNames , WeatherInfo)})"
   ]
  },
  {
   "cell_type": "code",
   "execution_count": 7,
   "metadata": {},
   "outputs": [],
   "source": [
    "#os.remove('Weather Today.csv')"
   ]
  },
  {
   "cell_type": "code",
   "execution_count": 8,
   "metadata": {},
   "outputs": [],
   "source": [
    "#!Weather Today.csv"
   ]
  },
  {
   "cell_type": "markdown",
   "metadata": {},
   "source": [
    "#### Save Weather data in excel sheet\n",
    "* run this cell for first run "
   ]
  },
  {
   "cell_type": "code",
   "execution_count": 9,
   "metadata": {},
   "outputs": [],
   "source": [
    "if not os.path.exists('Weather_Data.xlsx'):\n",
    "    wb = openpyxl.Workbook()\n",
    "    sheet = wb.active\n",
    "    row , col = sheet.max_row , sheet.max_column\n",
    "    for i in FieldsNames:\n",
    "        sheet.cell(row , col ).value = i\n",
    "        col += 1\n",
    "    wb.save('Weather_Data.xlsx')"
   ]
  },
  {
   "cell_type": "code",
   "execution_count": 10,
   "metadata": {},
   "outputs": [],
   "source": [
    "wb = openpyxl.load_workbook('Weather_Data.xlsx')\n",
    "sheet = wb.active\n",
    "row , col = sheet.max_row + 1  , 1\n",
    "for info in WeatherInfo:\n",
    "    sheet.cell(row , col).value = info\n",
    "    col += 1\n",
    "wb.save('Weather_Data.xlsx')    "
   ]
  },
  {
   "cell_type": "code",
   "execution_count": 11,
   "metadata": {},
   "outputs": [],
   "source": [
    "#os.remove('Weather_Data.xlsx')"
   ]
  },
  {
   "cell_type": "code",
   "execution_count": 1,
   "metadata": {},
   "outputs": [],
   "source": [
    "#!Weather_Data.xlsx"
   ]
  },
  {
   "cell_type": "code",
   "execution_count": 22,
   "metadata": {},
   "outputs": [
    {
     "name": "stdout",
     "output_type": "stream",
     "text": [
      "100\n",
      "93 41 91 61 30 6 25 90 97\n"
     ]
    }
   ],
   "source": [
    "n = int(input())\n",
    "c = list(map(int , input().split()))"
   ]
  },
  {
   "cell_type": "code",
   "execution_count": 23,
   "metadata": {},
   "outputs": [
    {
     "data": {
      "text/plain": [
       "33"
      ]
     },
     "execution_count": 23,
     "metadata": {},
     "output_type": "execute_result"
    }
   ],
   "source": [
    "c = sorted(c)\n",
    "for i in range (len(c) - 1):\n",
    "        diff = abs(c[i+1] - c[i])\n",
    "        dis = int(diff / 2)+1 if diff & 1 else int(diff / 2)\n",
    "        if dis > ans :\n",
    "            ans = dis\n",
    "ans"
   ]
  },
  {
   "cell_type": "code",
   "execution_count": null,
   "metadata": {},
   "outputs": [],
   "source": []
  }
 ],
 "metadata": {
  "kernelspec": {
   "display_name": "Python 3",
   "language": "python",
   "name": "python3"
  },
  "language_info": {
   "codemirror_mode": {
    "name": "ipython",
    "version": 3
   },
   "file_extension": ".py",
   "mimetype": "text/x-python",
   "name": "python",
   "nbconvert_exporter": "python",
   "pygments_lexer": "ipython3",
   "version": "3.7.6"
  }
 },
 "nbformat": 4,
 "nbformat_minor": 4
}
