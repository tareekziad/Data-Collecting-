{
 "cells": [
  {
   "cell_type": "markdown",
   "metadata": {},
   "source": [
    "# Quality Education Fund Cyber Resource Centre\n",
    "* collect all project info "
   ]
  },
  {
   "cell_type": "markdown",
   "metadata": {},
   "source": [
    "# Import some helper modules  "
   ]
  },
  {
   "cell_type": "code",
   "execution_count": 3,
   "metadata": {},
   "outputs": [],
   "source": [
    "import requests\n",
    "from bs4 import BeautifulSoup\n",
    "import json\n",
    "import csv\n",
    "import os\n",
    "import openpyxl\n",
    "import warnings\n",
    "warnings.filterwarnings('ignore')\n",
    "from datetime import datetime\n",
    "import time\n",
    "from selenium import webdriver\n",
    "path = 'chromedriver_win32 (1)\\chromedriver.exe'\n",
    "from selenium.webdriver.chrome.options import Options\n",
    "chrome_options = Options()\n",
    "#chrome_options.add_argument(\"headless\") \n",
    "import pandas as pd\n",
    "import sqlite3"
   ]
  },
  {
   "cell_type": "markdown",
   "metadata": {},
   "source": [
    "#### Web driver for scraping "
   ]
  },
  {
   "cell_type": "code",
   "execution_count": 5,
   "metadata": {},
   "outputs": [],
   "source": [
    "driver_path = 'chromedriver_win32 (1)\\chromedriver.exe'\n",
    "driver = webdriver.Chrome(driver_path, options = chrome_options , keep_alive = False)\n",
    "page_path = 'https://qcrc.qef.org.hk/en/search/result.php?gp0=rrc_aids_home&gp1=rrc_aids_home&web=this&tpl_id=rrc_aids&ui_charset=utf-8&ui_lang=zh-hk&proxyreload=1&query=&type%5B%5D=P&type%5B%5D=F&from=&to=&nature%5B%5D=&deliverid%5B%5D=&deliverable_sub_theme%5B%5D=&applicant%5B%5D=&beneficiary%5B%5D=&lang=tc&page=1'\n",
    "driver.get(page_path)"
   ]
  },
  {
   "cell_type": "markdown",
   "metadata": {},
   "source": [
    "#### Connect to database \n",
    "* Insert all data into database "
   ]
  },
  {
   "cell_type": "code",
   "execution_count": 6,
   "metadata": {},
   "outputs": [],
   "source": [
    "import sqlite3\n",
    "qry = 'insert into projects (Project_Name ,Project_Period,Grantee_name,Grantee_link,Project_Nature,Category,Sub_category,Applicant_Sector,Beneficiary,Project_No,Grant_Approved)values (?,?,?,?,?,?,?,?,?,?,?)'\n",
    "conn = sqlite3.connect('Quality Education Fund Cyber Resource Centre.db')"
   ]
  },
  {
   "cell_type": "markdown",
   "metadata": {},
   "source": [
    "#### Scraping Process\n"
   ]
  },
  {
   "cell_type": "code",
   "execution_count": 6,
   "metadata": {},
   "outputs": [
    {
     "name": "stdout",
     "output_type": "stream",
     "text": [
      "2\n"
     ]
    }
   ],
   "source": [
    "for i in range (1):\n",
    "    more = driver.find_elements_by_partial_link_text('More')\n",
    "    details = [i.get_attribute('href') for i in more]\n",
    "    time.sleep(2)\n",
    "    for link in details :\n",
    "        driver.get(link)\n",
    "        time.sleep(3)\n",
    "        Project_Name = driver.find_element_by_xpath('//*[@id=\"mainContent\"]/div[2]/div/div/div/div/div/div[1]/div/h2').text\n",
    "        Project_Period = driver.find_element_by_css_selector('div.col-lg-10').text\n",
    "        Grantee_name = driver.find_element_by_class_name('externalUrl').text\n",
    "        Grantee_link = driver.find_element_by_class_name('externalUrl').get_attribute('href')\n",
    "        Project_Nature = driver.find_element_by_css_selector('#mainContent > div.row > div > div > div > div > div > div:nth-child(7) > div.col-lg-10').text\n",
    "        Category = driver.find_element_by_css_selector('#mainContent > div.row > div > div > div > div > div > div:nth-child(9) > div.col-lg-10').text\n",
    "        Sub_category = driver.find_element_by_css_selector('#mainContent > div.row > div > div > div > div > div > div:nth-child(11) > div.col-lg-10').text\n",
    "        Applicant_Sector = driver.find_element_by_css_selector('#mainContent > div.row > div > div > div > div > div > div:nth-child(13) > div.col-lg-10').text\n",
    "        Beneficiary = driver.find_element_by_css_selector('#mainContent > div.row > div > div > div > div > div > div:nth-child(15) > div.col-lg-10').text\n",
    "        Project_No = driver.find_element_by_css_selector('#mainContent > div.row > div > div > div > div > div > div:nth-child(17) > div.col-lg-10').text\n",
    "        Grant_Approved = driver.find_element_by_css_selector('#mainContent > div.row > div > div > div > div > div > div:nth-child(19) > div.col-lg-10').text.split('$')[1].replace(',','.')\n",
    "        '''print(Project_Name)\n",
    "        print(Project_Period)\n",
    "        print(Grantee_name)\n",
    "        print(Grantee_link)\n",
    "        print(Project_Nature)\n",
    "        print(Category)\n",
    "        print(Sub_category)\n",
    "        print(Applicant_Sector)\n",
    "        print(Beneficiary)\n",
    "        print(Project_No)\n",
    "        print(Grant_Approved)\n",
    "        print('-'*30)'''\n",
    "        '''conn.execute(qry , [Project_Name ,Project_Period,Grantee_name,Grantee_link\n",
    "                            ,Project_Nature,Category,Sub_category,Applicant_Sector,\n",
    "                            Beneficiary,Project_No,Grant_Approved])\n",
    "        conn.commit()'''\n",
    "        driver.back()\n",
    "        time.sleep(3)\n",
    "    time.sleep(2)\n",
    "    next_page = driver.find_element_by_css_selector('a.next-btn').get_attribute('href')\n",
    "    print(next_page.split('=')[-1])\n",
    "    driver.get(next_page)\n",
    "    time.sleep(2)"
   ]
  },
  {
   "cell_type": "code",
   "execution_count": 7,
   "metadata": {},
   "outputs": [],
   "source": [
    "driver.close()"
   ]
  },
  {
   "cell_type": "markdown",
   "metadata": {},
   "source": [
    "#### Simple View "
   ]
  },
  {
   "cell_type": "code",
   "execution_count": 6,
   "metadata": {},
   "outputs": [
    {
     "data": {
      "text/html": [
       "<div>\n",
       "<style scoped>\n",
       "    .dataframe tbody tr th:only-of-type {\n",
       "        vertical-align: middle;\n",
       "    }\n",
       "\n",
       "    .dataframe tbody tr th {\n",
       "        vertical-align: top;\n",
       "    }\n",
       "\n",
       "    .dataframe thead th {\n",
       "        text-align: right;\n",
       "    }\n",
       "</style>\n",
       "<table border=\"1\" class=\"dataframe\">\n",
       "  <thead>\n",
       "    <tr style=\"text-align: right;\">\n",
       "      <th></th>\n",
       "      <th>Project_ID</th>\n",
       "      <th>Project_Name</th>\n",
       "      <th>Project_Period</th>\n",
       "      <th>Grantee_name</th>\n",
       "      <th>Grantee_link</th>\n",
       "      <th>Project_Nature</th>\n",
       "      <th>Category</th>\n",
       "      <th>Sub_category</th>\n",
       "      <th>Applicant_Sector</th>\n",
       "      <th>Beneficiary</th>\n",
       "      <th>Project_No</th>\n",
       "      <th>Grant_Approved</th>\n",
       "    </tr>\n",
       "  </thead>\n",
       "  <tbody>\n",
       "    <tr>\n",
       "      <th>0</th>\n",
       "      <td>1</td>\n",
       "      <td>Making Inclusion with Flying Colors</td>\n",
       "      <td>2019-06-01 To 2020-02-29</td>\n",
       "      <td>Centre for Community Cultural Development Ltd</td>\n",
       "      <td>http://www.cccd.hk/</td>\n",
       "      <td>All Round Education</td>\n",
       "      <td>Support for Students with Diverse Needs</td>\n",
       "      <td>Guidance and Personal Growth / Moral and Civic...</td>\n",
       "      <td>Tertiary Education</td>\n",
       "      <td>Primary,Secondary,Special</td>\n",
       "      <td>2017/0923</td>\n",
       "      <td>193.5</td>\n",
       "    </tr>\n",
       "    <tr>\n",
       "      <th>1</th>\n",
       "      <td>2</td>\n",
       "      <td>“Students as constructors of knowledge”- enhan...</td>\n",
       "      <td>2019-05-01 To 2020-04-30</td>\n",
       "      <td>Map</td>\n",
       "      <td>https://www.google.com/maps/place/Quality+Educ...</td>\n",
       "      <td>School-based Management</td>\n",
       "      <td>Using e-Learning (IT) for Effective Learning</td>\n",
       "      <td>Dedicated Funding Programme for Publicly-funde...</td>\n",
       "      <td>Secondary</td>\n",
       "      <td>Secondary</td>\n",
       "      <td>2018/0107</td>\n",
       "      <td>163</td>\n",
       "    </tr>\n",
       "    <tr>\n",
       "      <th>2</th>\n",
       "      <td>3</td>\n",
       "      <td>The Set up of Sensory Integration Activity Room</td>\n",
       "      <td>2019-05-01 To 2020-03-31</td>\n",
       "      <td>Hong Chi Morninglight School, Yuen Long</td>\n",
       "      <td>http://www.hcmlsyl.edu.hk/</td>\n",
       "      <td>School-based Management</td>\n",
       "      <td>Support for Students with Diverse Needs</td>\n",
       "      <td>Dedicated Funding Programme for Publicly-funde...</td>\n",
       "      <td>Special Education</td>\n",
       "      <td>Special</td>\n",
       "      <td>2017/1111</td>\n",
       "      <td>199.8</td>\n",
       "    </tr>\n",
       "    <tr>\n",
       "      <th>3</th>\n",
       "      <td>4</td>\n",
       "      <td>Keep your heart fit, Fitness Program</td>\n",
       "      <td>2019-05-01 To 2019-11-30</td>\n",
       "      <td>Yu Chun Keung Memorial College</td>\n",
       "      <td>http://www.yckmc.edu.hk/</td>\n",
       "      <td>All Round Education</td>\n",
       "      <td>Healthy Lifestyle and Positive Development of ...</td>\n",
       "      <td>Sports</td>\n",
       "      <td>Secondary</td>\n",
       "      <td>Secondary</td>\n",
       "      <td>2017/1075</td>\n",
       "      <td>88.7</td>\n",
       "    </tr>\n",
       "    <tr>\n",
       "      <th>4</th>\n",
       "      <td>5</td>\n",
       "      <td>Positive Life - related to the “Joyful@School ...</td>\n",
       "      <td>2019-04-01 To 2020-02-28</td>\n",
       "      <td>Methodist Centre</td>\n",
       "      <td>http://www.methodist-centre.com/</td>\n",
       "      <td>All Round Education</td>\n",
       "      <td>Healthy Lifestyle and Positive Development of ...</td>\n",
       "      <td>Collaborative Joyful@School Application</td>\n",
       "      <td>Tertiary Education</td>\n",
       "      <td>Primary</td>\n",
       "      <td>2018/0411</td>\n",
       "      <td>175.2</td>\n",
       "    </tr>\n",
       "  </tbody>\n",
       "</table>\n",
       "</div>"
      ],
      "text/plain": [
       "   Project_ID                                       Project_Name  \\\n",
       "0           1                Making Inclusion with Flying Colors   \n",
       "1           2  “Students as constructors of knowledge”- enhan...   \n",
       "2           3    The Set up of Sensory Integration Activity Room   \n",
       "3           4               Keep your heart fit, Fitness Program   \n",
       "4           5  Positive Life - related to the “Joyful@School ...   \n",
       "\n",
       "             Project_Period                                   Grantee_name  \\\n",
       "0  2019-06-01 To 2020-02-29  Centre for Community Cultural Development Ltd   \n",
       "1  2019-05-01 To 2020-04-30                                            Map   \n",
       "2  2019-05-01 To 2020-03-31        Hong Chi Morninglight School, Yuen Long   \n",
       "3  2019-05-01 To 2019-11-30                 Yu Chun Keung Memorial College   \n",
       "4  2019-04-01 To 2020-02-28                               Methodist Centre   \n",
       "\n",
       "                                        Grantee_link           Project_Nature  \\\n",
       "0                                http://www.cccd.hk/      All Round Education   \n",
       "1  https://www.google.com/maps/place/Quality+Educ...  School-based Management   \n",
       "2                         http://www.hcmlsyl.edu.hk/  School-based Management   \n",
       "3                           http://www.yckmc.edu.hk/      All Round Education   \n",
       "4                   http://www.methodist-centre.com/      All Round Education   \n",
       "\n",
       "                                            Category  \\\n",
       "0            Support for Students with Diverse Needs   \n",
       "1       Using e-Learning (IT) for Effective Learning   \n",
       "2            Support for Students with Diverse Needs   \n",
       "3  Healthy Lifestyle and Positive Development of ...   \n",
       "4  Healthy Lifestyle and Positive Development of ...   \n",
       "\n",
       "                                        Sub_category    Applicant_Sector  \\\n",
       "0  Guidance and Personal Growth / Moral and Civic...  Tertiary Education   \n",
       "1  Dedicated Funding Programme for Publicly-funde...           Secondary   \n",
       "2  Dedicated Funding Programme for Publicly-funde...   Special Education   \n",
       "3                                             Sports           Secondary   \n",
       "4            Collaborative Joyful@School Application  Tertiary Education   \n",
       "\n",
       "                 Beneficiary Project_No Grant_Approved  \n",
       "0  Primary,Secondary,Special  2017/0923          193.5  \n",
       "1                  Secondary  2018/0107            163  \n",
       "2                    Special  2017/1111          199.8  \n",
       "3                  Secondary  2017/1075           88.7  \n",
       "4                    Primary  2018/0411          175.2  "
      ]
     },
     "execution_count": 6,
     "metadata": {},
     "output_type": "execute_result"
    }
   ],
   "source": [
    "conn = sqlite3.connect('Quality Education Fund Cyber Resource Centre.db')\n",
    "qry = 'select * from projects'\n",
    "data = pd.read_sql(qry , conn)\n",
    "data.head()"
   ]
  },
  {
   "cell_type": "code",
   "execution_count": 14,
   "metadata": {},
   "outputs": [],
   "source": [
    "conn.close()"
   ]
  },
  {
   "cell_type": "code",
   "execution_count": null,
   "metadata": {},
   "outputs": [],
   "source": []
  }
 ],
 "metadata": {
  "kernelspec": {
   "display_name": "Python 3",
   "language": "python",
   "name": "python3"
  },
  "language_info": {
   "codemirror_mode": {
    "name": "ipython",
    "version": 3
   },
   "file_extension": ".py",
   "mimetype": "text/x-python",
   "name": "python",
   "nbconvert_exporter": "python",
   "pygments_lexer": "ipython3",
   "version": "3.7.6"
  }
 },
 "nbformat": 4,
 "nbformat_minor": 4
}
