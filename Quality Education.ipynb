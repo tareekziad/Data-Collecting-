{
 "cells": [
  {
   "cell_type": "markdown",
   "metadata": {},
   "source": [
    "# Quality Education Fund Cyber Resource Centre\n",
    "* collect all project info "
   ]
  },
  {
   "cell_type": "markdown",
   "metadata": {},
   "source": [
    "# Import some helper modules  "
   ]
  },
  {
   "cell_type": "code",
   "execution_count": 1,
   "metadata": {},
   "outputs": [],
   "source": [
    "import requests\n",
    "from bs4 import BeautifulSoup\n",
    "import json\n",
    "import csv\n",
    "import os\n",
    "import openpyxl\n",
    "import warnings\n",
    "warnings.filterwarnings('ignore')\n",
    "from datetime import datetime\n",
    "import time\n",
    "from selenium import webdriver\n",
    "path = 'chromedriver_win32 (1)\\chromedriver.exe'\n",
    "from selenium.webdriver.chrome.options import Options\n",
    "chrome_options = Options()\n",
    "#chrome_options.add_argument(\"headless\") \n",
    "import pandas as pd"
   ]
  },
  {
   "cell_type": "markdown",
   "metadata": {},
   "source": [
    "#### Web driver for scraping "
   ]
  },
  {
   "cell_type": "code",
   "execution_count": 5,
   "metadata": {},
   "outputs": [],
   "source": [
    "driver_path = 'chromedriver_win32 (1)\\chromedriver.exe'\n",
    "driver = webdriver.Chrome(driver_path, options = chrome_options , keep_alive = False)\n",
    "page_path = 'https://qcrc.qef.org.hk/en/search/result.php?gp0=rrc_aids_home&gp1=rrc_aids_home&web=this&tpl_id=rrc_aids&ui_charset=utf-8&ui_lang=zh-hk&proxyreload=1&query=&type%5B%5D=P&type%5B%5D=F&from=&to=&nature%5B%5D=&deliverid%5B%5D=&deliverable_sub_theme%5B%5D=&applicant%5B%5D=&beneficiary%5B%5D=&lang=tc&page=1'\n",
    "driver.get(page_path)"
   ]
  },
  {
   "cell_type": "markdown",
   "metadata": {},
   "source": [
    "#### Connect to database \n",
    "* Insert all data into database "
   ]
  },
  {
   "cell_type": "code",
   "execution_count": 3,
   "metadata": {},
   "outputs": [],
   "source": [
    "import sqlite3\n",
    "qry = 'insert into projects (Project_Name ,Project_Period,Grantee_name,Grantee_link,Project_Nature,Category,Sub_category,Applicant_Sector,Beneficiary,Project_No,Grant_Approved)values (?,?,?,?,?,?,?,?,?,?,?)'\n",
    "conn = sqlite3.connect('Quality Education Fund Cyber Resource Centre.db')"
   ]
  },
  {
   "cell_type": "markdown",
   "metadata": {},
   "source": [
    "#### Scraping Process\n"
   ]
  },
  {
   "cell_type": "code",
   "execution_count": 6,
   "metadata": {},
   "outputs": [
    {
     "name": "stdout",
     "output_type": "stream",
     "text": [
      "2\n"
     ]
    }
   ],
   "source": [
    "for i in range (1):\n",
    "    more = driver.find_elements_by_partial_link_text('More')\n",
    "    details = [i.get_attribute('href') for i in more]\n",
    "    time.sleep(2)\n",
    "    for link in details :\n",
    "        driver.get(link)\n",
    "        time.sleep(3)\n",
    "        Project_Name = driver.find_element_by_xpath('//*[@id=\"mainContent\"]/div[2]/div/div/div/div/div/div[1]/div/h2').text\n",
    "        Project_Period = driver.find_element_by_css_selector('div.col-lg-10').text\n",
    "        Grantee_name = driver.find_element_by_class_name('externalUrl').text\n",
    "        Grantee_link = driver.find_element_by_class_name('externalUrl').get_attribute('href')\n",
    "        Project_Nature = driver.find_element_by_css_selector('#mainContent > div.row > div > div > div > div > div > div:nth-child(7) > div.col-lg-10').text\n",
    "        Category = driver.find_element_by_css_selector('#mainContent > div.row > div > div > div > div > div > div:nth-child(9) > div.col-lg-10').text\n",
    "        Sub_category = driver.find_element_by_css_selector('#mainContent > div.row > div > div > div > div > div > div:nth-child(11) > div.col-lg-10').text\n",
    "        Applicant_Sector = driver.find_element_by_css_selector('#mainContent > div.row > div > div > div > div > div > div:nth-child(13) > div.col-lg-10').text\n",
    "        Beneficiary = driver.find_element_by_css_selector('#mainContent > div.row > div > div > div > div > div > div:nth-child(15) > div.col-lg-10').text\n",
    "        Project_No = driver.find_element_by_css_selector('#mainContent > div.row > div > div > div > div > div > div:nth-child(17) > div.col-lg-10').text\n",
    "        Grant_Approved = driver.find_element_by_css_selector('#mainContent > div.row > div > div > div > div > div > div:nth-child(19) > div.col-lg-10').text.split('$')[1].replace(',','.')\n",
    "        '''print(Project_Name)\n",
    "        print(Project_Period)\n",
    "        print(Grantee_name)\n",
    "        print(Grantee_link)\n",
    "        print(Project_Nature)\n",
    "        print(Category)\n",
    "        print(Sub_category)\n",
    "        print(Applicant_Sector)\n",
    "        print(Beneficiary)\n",
    "        print(Project_No)\n",
    "        print(Grant_Approved)\n",
    "        print('-'*30)'''\n",
    "        '''conn.execute(qry , [Project_Name ,Project_Period,Grantee_name,Grantee_link\n",
    "                            ,Project_Nature,Category,Sub_category,Applicant_Sector,\n",
    "                            Beneficiary,Project_No,Grant_Approved])\n",
    "        conn.commit()'''\n",
    "        driver.back()\n",
    "        time.sleep(3)\n",
    "    time.sleep(2)\n",
    "    next_page = driver.find_element_by_css_selector('a.next-btn').get_attribute('href')\n",
    "    print(next_page.split('=')[-1])\n",
    "    driver.get(next_page)\n",
    "    time.sleep(2)"
   ]
  },
  {
   "cell_type": "code",
   "execution_count": 7,
   "metadata": {},
   "outputs": [],
   "source": [
    "driver.close()"
   ]
  },
  {
   "cell_type": "code",
   "execution_count": null,
   "metadata": {},
   "outputs": [],
   "source": []
  }
 ],
 "metadata": {
  "kernelspec": {
   "display_name": "Python 3",
   "language": "python",
   "name": "python3"
  },
  "language_info": {
   "codemirror_mode": {
    "name": "ipython",
    "version": 3
   },
   "file_extension": ".py",
   "mimetype": "text/x-python",
   "name": "python",
   "nbconvert_exporter": "python",
   "pygments_lexer": "ipython3",
   "version": "3.7.6"
  }
 },
 "nbformat": 4,
 "nbformat_minor": 4
}
