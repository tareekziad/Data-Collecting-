{
 "cells": [
  {
   "cell_type": "markdown",
   "metadata": {},
   "source": [
    "# Vezeeta Data Collecting \n",
    "* collect doctors data "
   ]
  },
  {
   "cell_type": "markdown",
   "metadata": {},
   "source": [
    "#### Import some helper modules "
   ]
  },
  {
   "cell_type": "code",
   "execution_count": 1,
   "metadata": {},
   "outputs": [],
   "source": [
    "import requests\n",
    "from bs4 import BeautifulSoup\n",
    "import json\n",
    "import csv\n",
    "import os\n",
    "import openpyxl\n",
    "import warnings\n",
    "warnings.filterwarnings('ignore')\n",
    "from datetime import datetime\n",
    "import time\n",
    "from selenium import webdriver\n",
    "path = 'chromedriver_win32 (1)\\chromedriver.exe'\n",
    "from selenium.webdriver.chrome.options import Options\n",
    "chrome_options = Options()\n",
    "#chrome_options.add_argument(\"headless\") \n",
    "import pandas as pd"
   ]
  },
  {
   "cell_type": "markdown",
   "metadata": {},
   "source": [
    "#### Web Driver for scraping "
   ]
  },
  {
   "cell_type": "code",
   "execution_count": 2,
   "metadata": {},
   "outputs": [],
   "source": [
    "path = 'chromedriver_win32 (1)\\chromedriver.exe'\n",
    "driver = webdriver.Chrome(path, options = chrome_options , keep_alive = False)\n",
    "page_path = 'https://www.vezeeta.com/ar/%D8%AF%D9%83%D8%AA%D9%88%D8%B1/%D8%A7%D8%B3%D9%86%D8%A7%D9%86/%D9%85%D8%B5%D8%B1'\n",
    "driver.get(page_path)"
   ]
  },
  {
   "cell_type": "markdown",
   "metadata": {},
   "source": [
    "#### Connect to database to save data "
   ]
  },
  {
   "cell_type": "code",
   "execution_count": 2,
   "metadata": {},
   "outputs": [],
   "source": [
    "import sqlite3\n",
    "qry = 'insert into doctors (doctor_name , information , specialty , location , telephone_number , price , rate)values (?,?,?,?,?,?,?)'\n",
    "conn = sqlite3.connect('vezeeta.db')\n",
    "#qry = 'select * from doctors"
   ]
  },
  {
   "cell_type": "markdown",
   "metadata": {},
   "source": [
    "#### Scraping Process"
   ]
  },
  {
   "cell_type": "code",
   "execution_count": 4,
   "metadata": {},
   "outputs": [],
   "source": [
    "x = 1\n",
    "while x < 2:\n",
    "    #doc_names = driver.find_elements_by_css_selector('span.fpPjgt')\n",
    "    doc_names = [i.text for i in driver.find_elements_by_css_selector('span.fpPjgt')]\n",
    "    info = [i.text for i in driver.find_elements_by_css_selector('h3.gTQyon')]\n",
    "    spec = [i.text for i in driver.find_elements_by_css_selector('span.gDxYKK')]\n",
    "    loc = [i.text for i in driver.find_elements_by_css_selector('span.gsYoeb')]\n",
    "    nom = [i.text for i in driver.find_elements_by_xpath('//span[@itemprop=\"telephone\"]')]\n",
    "    price = [i.text for i in driver.find_elements_by_xpath('//span[@itemprop=\"priceRange\"]')]\n",
    "    rate = [i.get_attribute('data-testid').split('--')[1] for i in driver.find_elements_by_css_selector('span.jjMOdP')]\n",
    "    Next = driver.find_elements_by_css_selector('a.fKZvmm')\n",
    "    driver.get(Next[-1].get_attribute('href'))\n",
    "    for i in range(len(doc_names)):\n",
    "        conn.execute(qry , [doc_names[i] , info[i] , spec[i] , loc[i] , nom[i] , price[i] , rate[i]])\n",
    "    conn.commit()\n",
    "    time.sleep(3)\n",
    "    x += 1\n",
    "    #break"
   ]
  },
  {
   "cell_type": "code",
   "execution_count": 3,
   "metadata": {},
   "outputs": [
    {
     "data": {
      "text/html": [
       "<div>\n",
       "<style scoped>\n",
       "    .dataframe tbody tr th:only-of-type {\n",
       "        vertical-align: middle;\n",
       "    }\n",
       "\n",
       "    .dataframe tbody tr th {\n",
       "        vertical-align: top;\n",
       "    }\n",
       "\n",
       "    .dataframe thead th {\n",
       "        text-align: right;\n",
       "    }\n",
       "</style>\n",
       "<table border=\"1\" class=\"dataframe\">\n",
       "  <thead>\n",
       "    <tr style=\"text-align: right;\">\n",
       "      <th></th>\n",
       "      <th>doctor_id</th>\n",
       "      <th>doctor_name</th>\n",
       "      <th>information</th>\n",
       "      <th>specialty</th>\n",
       "      <th>location</th>\n",
       "      <th>telephone_number</th>\n",
       "      <th>price</th>\n",
       "      <th>rate</th>\n",
       "    </tr>\n",
       "  </thead>\n",
       "  <tbody>\n",
       "    <tr>\n",
       "      <th>0</th>\n",
       "      <td>1</td>\n",
       "      <td>علي إسماعيل الطحان</td>\n",
       "      <td>ماجيستير علاج الجذور ، ماجيستير جراحات تجميل ا...</td>\n",
       "      <td>دكتور اسنان متخصص في تركيبات اسنان، اسنان مسني...</td>\n",
       "      <td>الزقازيق : ش طابا</td>\n",
       "      <td>١٦٦٧٦</td>\n",
       "      <td>١٠٠</td>\n",
       "      <td>4.5</td>\n",
       "    </tr>\n",
       "    <tr>\n",
       "      <th>1</th>\n",
       "      <td>2</td>\n",
       "      <td>أحمد أشرف سعد</td>\n",
       "      <td>أخصائي طب الفم والأسنان</td>\n",
       "      <td>دكتور اسنان متخصص في تجميل اسنان، تقويم اسنان،...</td>\n",
       "      <td>المنصورة : شارع الاتوبيس الدولي</td>\n",
       "      <td>١٦٦٧٦</td>\n",
       "      <td>٨٠</td>\n",
       "      <td>5.0</td>\n",
       "    </tr>\n",
       "    <tr>\n",
       "      <th>2</th>\n",
       "      <td>3</td>\n",
       "      <td>محمود أحمد عاطف</td>\n",
       "      <td>أخصائي وجراح طب الاسنان</td>\n",
       "      <td>دكتور اسنان متخصص في حشو وعلاج الجذور والاعصاب...</td>\n",
       "      <td>مركز أسيوط : امتداد يسري راغب</td>\n",
       "      <td>١٦٦٧٦</td>\n",
       "      <td>٧٠</td>\n",
       "      <td>4.5</td>\n",
       "    </tr>\n",
       "    <tr>\n",
       "      <th>3</th>\n",
       "      <td>4</td>\n",
       "      <td>محمد فرج</td>\n",
       "      <td>استشاري جراحة الفم وزراعة الاسنان - جامعة عين ...</td>\n",
       "      <td>دكتور اسنان متخصص في زراعة اسنان، اسنان بالغين...</td>\n",
       "      <td>التجمع : محور مصطفي كامل</td>\n",
       "      <td>١٦٦٧٦</td>\n",
       "      <td>٢٠٠</td>\n",
       "      <td>4.5</td>\n",
       "    </tr>\n",
       "    <tr>\n",
       "      <th>4</th>\n",
       "      <td>5</td>\n",
       "      <td>دنتال هوم</td>\n",
       "      <td>أستشاريين طب الفم و الاسنان و علاج اللثة و تقو...</td>\n",
       "      <td>دكتور اسنان متخصص في تقويم اسنان، حشو وعلاج ال...</td>\n",
       "      <td>مدينتي : شارع بوابة ٢</td>\n",
       "      <td>١٦٦٧٦</td>\n",
       "      <td>١٠٠</td>\n",
       "      <td>4.5</td>\n",
       "    </tr>\n",
       "  </tbody>\n",
       "</table>\n",
       "</div>"
      ],
      "text/plain": [
       "   doctor_id         doctor_name  \\\n",
       "0          1  علي إسماعيل الطحان   \n",
       "1          2       أحمد أشرف سعد   \n",
       "2          3     محمود أحمد عاطف   \n",
       "3          4            محمد فرج   \n",
       "4          5           دنتال هوم   \n",
       "\n",
       "                                         information  \\\n",
       "0  ماجيستير علاج الجذور ، ماجيستير جراحات تجميل ا...   \n",
       "1                            أخصائي طب الفم والأسنان   \n",
       "2                            أخصائي وجراح طب الاسنان   \n",
       "3  استشاري جراحة الفم وزراعة الاسنان - جامعة عين ...   \n",
       "4  أستشاريين طب الفم و الاسنان و علاج اللثة و تقو...   \n",
       "\n",
       "                                           specialty  \\\n",
       "0  دكتور اسنان متخصص في تركيبات اسنان، اسنان مسني...   \n",
       "1  دكتور اسنان متخصص في تجميل اسنان، تقويم اسنان،...   \n",
       "2  دكتور اسنان متخصص في حشو وعلاج الجذور والاعصاب...   \n",
       "3  دكتور اسنان متخصص في زراعة اسنان، اسنان بالغين...   \n",
       "4  دكتور اسنان متخصص في تقويم اسنان، حشو وعلاج ال...   \n",
       "\n",
       "                          location telephone_number price  rate  \n",
       "0                الزقازيق : ش طابا            ١٦٦٧٦   ١٠٠   4.5  \n",
       "1  المنصورة : شارع الاتوبيس الدولي            ١٦٦٧٦    ٨٠   5.0  \n",
       "2    مركز أسيوط : امتداد يسري راغب            ١٦٦٧٦    ٧٠   4.5  \n",
       "3         التجمع : محور مصطفي كامل            ١٦٦٧٦   ٢٠٠   4.5  \n",
       "4            مدينتي : شارع بوابة ٢            ١٦٦٧٦   ١٠٠   4.5  "
      ]
     },
     "execution_count": 3,
     "metadata": {},
     "output_type": "execute_result"
    }
   ],
   "source": [
    "qry = 'select * from doctors'\n",
    "data = pd.read_sql(qry , conn)\n",
    "data.head()"
   ]
  },
  {
   "cell_type": "code",
   "execution_count": null,
   "metadata": {},
   "outputs": [],
   "source": []
  }
 ],
 "metadata": {
  "kernelspec": {
   "display_name": "Python 3",
   "language": "python",
   "name": "python3"
  },
  "language_info": {
   "codemirror_mode": {
    "name": "ipython",
    "version": 3
   },
   "file_extension": ".py",
   "mimetype": "text/x-python",
   "name": "python",
   "nbconvert_exporter": "python",
   "pygments_lexer": "ipython3",
   "version": "3.7.6"
  }
 },
 "nbformat": 4,
 "nbformat_minor": 4
}
