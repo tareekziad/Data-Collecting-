{
 "cells": [
  {
   "cell_type": "markdown",
   "metadata": {},
   "source": [
    "# Vezeeta Data Collecting \n",
    "* collect doctors data "
   ]
  },
  {
   "cell_type": "markdown",
   "metadata": {},
   "source": [
    "#### Import some helper modules "
   ]
  },
  {
   "cell_type": "code",
   "execution_count": 1,
   "metadata": {},
   "outputs": [],
   "source": [
    "import requests\n",
    "from bs4 import BeautifulSoup\n",
    "import json\n",
    "import csv\n",
    "import os\n",
    "import openpyxl\n",
    "import warnings\n",
    "warnings.filterwarnings('ignore')\n",
    "from datetime import datetime\n",
    "import time\n",
    "from selenium import webdriver\n",
    "path = 'chromedriver_win32 (1)\\chromedriver.exe'\n",
    "from selenium.webdriver.chrome.options import Options\n",
    "chrome_options = Options()\n",
    "#chrome_options.add_argument(\"headless\") \n",
    "import pandas as pd"
   ]
  },
  {
   "cell_type": "markdown",
   "metadata": {},
   "source": [
    "#### Web Driver for scraping "
   ]
  },
  {
   "cell_type": "code",
   "execution_count": 2,
   "metadata": {},
   "outputs": [],
   "source": [
    "path = 'chromedriver_win32 (1)\\chromedriver.exe'\n",
    "driver = webdriver.Chrome(path, options = chrome_options , keep_alive = False)\n",
    "page_path = 'https://www.vezeeta.com/ar/%D8%AF%D9%83%D8%AA%D9%88%D8%B1/%D8%A7%D8%B3%D9%86%D8%A7%D9%86/%D9%85%D8%B5%D8%B1'\n",
    "driver.get(page_path)"
   ]
  },
  {
   "cell_type": "markdown",
   "metadata": {},
   "source": [
    "#### Connect to database to save data "
   ]
  },
  {
   "cell_type": "code",
   "execution_count": 3,
   "metadata": {},
   "outputs": [],
   "source": [
    "import sqlite3\n",
    "qry = 'insert into doctors (doctor_name , information , specialty , location , telephone_number , price , rate)values (?,?,?,?,?,?,?)'\n",
    "conn = sqlite3.connect('vezeeta.db')\n",
    "#qry = 'select * from doctors"
   ]
  },
  {
   "cell_type": "markdown",
   "metadata": {},
   "source": [
    "#### Scraping Process"
   ]
  },
  {
   "cell_type": "code",
   "execution_count": 4,
   "metadata": {},
   "outputs": [],
   "source": [
    "x = 1\n",
    "while x < 2:\n",
    "    #doc_names = driver.find_elements_by_css_selector('span.fpPjgt')\n",
    "    doc_names = [i.text for i in driver.find_elements_by_css_selector('span.fpPjgt')]\n",
    "    info = [i.text for i in driver.find_elements_by_css_selector('h3.gTQyon')]\n",
    "    spec = [i.text for i in driver.find_elements_by_css_selector('span.gDxYKK')]\n",
    "    loc = [i.text for i in driver.find_elements_by_css_selector('span.gsYoeb')]\n",
    "    nom = [i.text for i in driver.find_elements_by_xpath('//span[@itemprop=\"telephone\"]')]\n",
    "    price = [i.text for i in driver.find_elements_by_xpath('//span[@itemprop=\"priceRange\"]')]\n",
    "    rate = [i.get_attribute('data-testid').split('--')[1] for i in driver.find_elements_by_css_selector('span.jjMOdP')]\n",
    "    Next = driver.find_elements_by_css_selector('a.fKZvmm')\n",
    "    driver.get(Next[-1].get_attribute('href'))\n",
    "    for i in range(len(doc_names)):\n",
    "        conn.execute(qry , [doc_names[i] , info[i] , spec[i] , loc[i] , nom[i] , price[i] , rate[i]])\n",
    "    conn.commit()\n",
    "    time.sleep(3)\n",
    "    x += 1\n",
    "    #break"
   ]
  },
  {
   "cell_type": "code",
   "execution_count": null,
   "metadata": {},
   "outputs": [],
   "source": []
  }
 ],
 "metadata": {
  "kernelspec": {
   "display_name": "Python 3",
   "language": "python",
   "name": "python3"
  },
  "language_info": {
   "codemirror_mode": {
    "name": "ipython",
    "version": 3
   },
   "file_extension": ".py",
   "mimetype": "text/x-python",
   "name": "python",
   "nbconvert_exporter": "python",
   "pygments_lexer": "ipython3",
   "version": "3.7.6"
  }
 },
 "nbformat": 4,
 "nbformat_minor": 4
}
