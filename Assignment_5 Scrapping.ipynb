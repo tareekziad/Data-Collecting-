{
 "cells": [
  {
   "cell_type": "markdown",
   "metadata": {},
   "source": [
    "## Scrap the weather \n",
    "* temperature, humidity, visibility, air pressure, wind speed, datetime data from this website\n",
    "* https://eg.freemeteo.com/weather/cairo/current-weather/location/?gid=360630&language=english&country=egypt\n",
    "* for 10 times one read in a minute (so basicly the process takes 10 minutes)\n",
    "and put them into a CSV & Excel file"
   ]
  },
  {
   "cell_type": "markdown",
   "metadata": {},
   "source": [
    "#### Import some helper modules "
   ]
  },
  {
   "cell_type": "code",
   "execution_count": 4,
   "metadata": {},
   "outputs": [],
   "source": [
    "import os\n",
    "import csv\n",
    "import json\n",
    "import re\n",
    "from datetime import datetime\n",
    "import openpyxl\n",
    "from bs4 import BeautifulSoup\n",
    "import requests\n",
    "import time "
   ]
  },
  {
   "cell_type": "markdown",
   "metadata": {},
   "source": [
    "#### Function to clean strings \n",
    "* take a string as input\n",
    "* return cleaned string from spaces and lines "
   ]
  },
  {
   "cell_type": "code",
   "execution_count": 6,
   "metadata": {},
   "outputs": [],
   "source": [
    "def clean_str (Str : str)->str:\n",
    "    cleaned = ''\n",
    "    for i in Str:\n",
    "        tmp = ''\n",
    "        for j in i.strip():\n",
    "            if j not in ['\\n','\\r']:\n",
    "                tmp += j\n",
    "        cleaned += tmp\n",
    "    return cleaned"
   ]
  },
  {
   "cell_type": "markdown",
   "metadata": {},
   "source": [
    "#### Save Inof into csv file \n",
    "* take a list of lists as input \n",
    "* save them into csv file "
   ]
  },
  {
   "cell_type": "code",
   "execution_count": 7,
   "metadata": {},
   "outputs": [],
   "source": [
    "def write_csv(*args):\n",
    "    fn = ['date' , 'time' , 'temp' , 'humidity' , 'wind_speed', 'pressure' , 'visibility']\n",
    "    m = 'w' if not os.path.exists('weather_scrape.csv') else 'a'\n",
    "    with open('weather_scrape.csv' , m , newline='')as f:\n",
    "        writer = csv.DictWriter(f , fieldnames=fn)\n",
    "        if m == 'w':\n",
    "            writer.writeheader()\n",
    "        writer.writerow({k : val for k , val in zip(fn , args)})"
   ]
  },
  {
   "cell_type": "markdown",
   "metadata": {},
   "source": [
    "#### Save Info in Excel file \n",
    "* take list of lists as input\n",
    "* Save them in excel file "
   ]
  },
  {
   "cell_type": "code",
   "execution_count": 8,
   "metadata": {},
   "outputs": [],
   "source": [
    "def write_xl(*args):\n",
    "    fn = ['date' , 'time' , 'temp' , 'humidity' , 'wind_speed', 'pressure' , 'visibility']\n",
    "    if not os.path.exists('weather_scrape.xlsx'):\n",
    "        wb = openpyxl.Workbook()\n",
    "        sheet = wb.active\n",
    "        row , col = sheet.max_row , sheet.max_column\n",
    "        for i in fn:\n",
    "            sheet.cell(row , col ).value = i\n",
    "            col += 1\n",
    "        wb.save('weather_scrape.xlsx')\n",
    "    wb = openpyxl.load_workbook('weather_scrape.xlsx')\n",
    "    sheet = wb.active\n",
    "    row , col = sheet.max_row + 1  , 1\n",
    "    for info in args:\n",
    "        sheet.cell(row , col).value = info\n",
    "        col += 1\n",
    "    wb.save('weather_scrape.xlsx')"
   ]
  },
  {
   "cell_type": "markdown",
   "metadata": {},
   "source": [
    "#### Scrapping Process\n",
    "* make repuest to web bage by requests \n",
    "* parse the request to html using BeautifulSoup and get the body \n",
    "* get weather info 10 times one minutes for each and save into csv & excel file "
   ]
  },
  {
   "cell_type": "code",
   "execution_count": 8,
   "metadata": {},
   "outputs": [],
   "source": [
    "for i in range (10):\n",
    "    req = requests.get('https://eg.freemeteo.com/weather/cairo/current-weather/location/?gid=360630&language=english&country=egypt')\n",
    "    soup = BeautifulSoup(req.content , 'html.parser')\n",
    "    body = soup.body\n",
    "    Weather_Today = body.find('div', {'class':\"weather-now\"})\n",
    "    Weather_Now = Weather_Today.find('div' , {'class':\"hourly-www-update\"})\n",
    "    date_time = Weather_Now.find('span' , {'class':\"wicon\"})['data-date'].split('T')\n",
    "    date , Time = date_time[0] , date_time[1][:-1]\n",
    "    temp = Weather_Now.find('span' , {'class':\"temp\"}).text\n",
    "    humidity = Weather_Now.find('span' , {'class':\"humid\"}).text\n",
    "    wind_speed = Weather_Now.find('span' , {'class':\"winds\"}).text\n",
    "    chart = Weather_Today.find('div' , {'class':\"chart\"})\n",
    "    last_renew_info = chart.find('div' , {'class':\"last-renew-info\"})\n",
    "    stats = last_renew_info.find('div' , {'class':\"stats\"})\n",
    "    stats = clean_str(stats.text)\n",
    "    stats = stats.split('|')\n",
    "    Visibility , Pressure = stats[1] , stats[2]\n",
    "    Visibility = Visibility.split(':')[1][:-1]\n",
    "    Pressure = Pressure.split('mb')[0].split(':')[1]\n",
    "    write_csv(date , Time , temp , humidity , wind_speed, Pressure , Visibility)\n",
    "    write_xl(date , Time , temp , humidity , wind_speed, Pressure , Visibility)\n",
    "    time.sleep(60)"
   ]
  },
  {
   "cell_type": "code",
   "execution_count": 6,
   "metadata": {},
   "outputs": [],
   "source": [
    "#os.remove('weather_scrape.csv')"
   ]
  },
  {
   "cell_type": "code",
   "execution_count": 7,
   "metadata": {},
   "outputs": [],
   "source": [
    "#os.remove('weather_scrape.xlsx')"
   ]
  },
  {
   "cell_type": "code",
   "execution_count": 6,
   "metadata": {},
   "outputs": [],
   "source": [
    "date_time = datetime.now()"
   ]
  },
  {
   "cell_type": "code",
   "execution_count": 24,
   "metadata": {},
   "outputs": [
    {
     "name": "stdout",
     "output_type": "stream",
     "text": [
      "27 : 3 : 2022\n"
     ]
    }
   ],
   "source": [
    "print(f'{date_time.day} : {date_time.month} : {date_time.year}')"
   ]
  },
  {
   "cell_type": "code",
   "execution_count": 10,
   "metadata": {},
   "outputs": [
    {
     "data": {
      "text/plain": [
       "datetime.time(17, 46, 19, 339134)"
      ]
     },
     "execution_count": 10,
     "metadata": {},
     "output_type": "execute_result"
    }
   ],
   "source": [
    "date_time.time()"
   ]
  },
  {
   "cell_type": "code",
   "execution_count": null,
   "metadata": {},
   "outputs": [],
   "source": []
  }
 ],
 "metadata": {
  "kernelspec": {
   "display_name": "Python 3",
   "language": "python",
   "name": "python3"
  },
  "language_info": {
   "codemirror_mode": {
    "name": "ipython",
    "version": 3
   },
   "file_extension": ".py",
   "mimetype": "text/x-python",
   "name": "python",
   "nbconvert_exporter": "python",
   "pygments_lexer": "ipython3",
   "version": "3.7.6"
  }
 },
 "nbformat": 4,
 "nbformat_minor": 4
}
