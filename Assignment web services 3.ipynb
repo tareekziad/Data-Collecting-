{
 "cells": [
  {
   "cell_type": "markdown",
   "metadata": {},
   "source": [
    "* Use this web service\n",
    "* https://jsonplaceholder.typicode.com/users\n",
    "* and make a program that get all users data including name, username, email, street, suite, * city, zip code, geo_lat & geo_long and then save them in a CSV & Excel file."
   ]
  },
  {
   "cell_type": "markdown",
   "metadata": {},
   "source": [
    "#### import some helper modules"
   ]
  },
  {
   "cell_type": "code",
   "execution_count": 1,
   "metadata": {},
   "outputs": [],
   "source": [
    "import os\n",
    "import requests\n",
    "from bs4 import BeautifulSoup\n",
    "import random\n",
    "import time \n",
    "import datetime\n",
    "import json \n",
    "import csv\n",
    "from functools import reduce\n",
    "import xlwt\n",
    "import openpyxl"
   ]
  },
  {
   "cell_type": "markdown",
   "metadata": {},
   "source": [
    "#### make request to API"
   ]
  },
  {
   "cell_type": "code",
   "execution_count": 2,
   "metadata": {},
   "outputs": [],
   "source": [
    "req = requests.get('https://jsonplaceholder.typicode.com/users')"
   ]
  },
  {
   "cell_type": "markdown",
   "metadata": {},
   "source": [
    "#### get data in json format"
   ]
  },
  {
   "cell_type": "code",
   "execution_count": 3,
   "metadata": {
    "scrolled": true
   },
   "outputs": [
    {
     "name": "stdout",
     "output_type": "stream",
     "text": [
      "dict_keys(['id', 'name', 'username', 'email', 'address', 'phone', 'website', 'company'])\n"
     ]
    }
   ],
   "source": [
    "data = json.loads(req.content)\n",
    "print(data[0].keys())"
   ]
  },
  {
   "cell_type": "markdown",
   "metadata": {},
   "source": [
    "#### save user data in csv file "
   ]
  },
  {
   "cell_type": "code",
   "execution_count": 4,
   "metadata": {},
   "outputs": [],
   "source": [
    "#name, username, email, street, suite, * city, zip code, geo_lat & geo_long\n",
    "fieldsname = ['name', 'username', 'email', 'street', 'suite', 'city', 'zipcode'\n",
    "              , 'geo_lat' , 'geo_long']\n",
    "with open('UserData.csv' , 'w' , newline='')as file :\n",
    "    writer = csv.DictWriter(file , fieldnames=fieldsname)\n",
    "    writer.writeheader()\n",
    "    for user in data:\n",
    "        writer.writerow({'name' : user['name'] , 'username' : user['username'] ,\n",
    "                         'email' : user['email'] , 'street' : user['address']['street'] , \n",
    "                         'city' : user['address']['city'] , 'suite' : user['address']['suite'],\n",
    "                         'zipcode' : user['address']['zipcode'],\n",
    "                         'geo_lat' : user['address']['geo']['lat'] , \n",
    "                         'geo_long' : user['address']['geo']['lng']})"
   ]
  },
  {
   "cell_type": "code",
   "execution_count": 5,
   "metadata": {},
   "outputs": [],
   "source": [
    "#os.remove('UserData.csv')"
   ]
  },
  {
   "cell_type": "code",
   "execution_count": 6,
   "metadata": {},
   "outputs": [],
   "source": [
    "#!UserData.csv"
   ]
  },
  {
   "cell_type": "markdown",
   "metadata": {},
   "source": [
    "#### save user data in excel sheet"
   ]
  },
  {
   "cell_type": "code",
   "execution_count": 7,
   "metadata": {},
   "outputs": [],
   "source": [
    "if not os.path.exists('User_Data.xlsx'):\n",
    "    wb = openpyxl.Workbook()\n",
    "    sheet = wb.active\n",
    "    row , col = sheet.max_row , 1\n",
    "    for head in fieldsname:\n",
    "        sheet.cell(row , col).value = head\n",
    "        col += 1\n",
    "    wb.save('User_Data.xlsx')"
   ]
  },
  {
   "cell_type": "code",
   "execution_count": 8,
   "metadata": {},
   "outputs": [],
   "source": [
    "wb = openpyxl.load_workbook('User_Data.xlsx')\n",
    "sheet = wb.active\n",
    "row , col = sheet.max_row + 1 , 1\n",
    "for user in data:\n",
    "    sheet.cell(row , col).value = user['name']\n",
    "    col += 1\n",
    "    sheet.cell(row , col).value = user['username']\n",
    "    col += 1\n",
    "    sheet.cell(row , col).value = user['email']\n",
    "    col += 1\n",
    "    sheet.cell(row , col).value = user['address']['street']\n",
    "    col += 1\n",
    "    sheet.cell(row , col).value = user['address']['city']\n",
    "    col += 1\n",
    "    sheet.cell(row , col).value = user['address']['suite']\n",
    "    col += 1\n",
    "    sheet.cell(row , col).value = user['address']['zipcode']\n",
    "    col += 1\n",
    "    sheet.cell(row , col).value = user['address']['geo']['lat']\n",
    "    col += 1\n",
    "    sheet.cell(row , col).value = user['address']['geo']['lng']\n",
    "    row , col = sheet.max_row + 1 , 1\n",
    "wb.save('User_Data.xlsx')"
   ]
  },
  {
   "cell_type": "code",
   "execution_count": 9,
   "metadata": {},
   "outputs": [],
   "source": [
    "#!User_Data.xls"
   ]
  },
  {
   "cell_type": "code",
   "execution_count": 10,
   "metadata": {},
   "outputs": [],
   "source": [
    "#os.remove('User_Data.xlsx')"
   ]
  },
  {
   "cell_type": "code",
   "execution_count": null,
   "metadata": {},
   "outputs": [],
   "source": []
  }
 ],
 "metadata": {
  "kernelspec": {
   "display_name": "Python 3",
   "language": "python",
   "name": "python3"
  },
  "language_info": {
   "codemirror_mode": {
    "name": "ipython",
    "version": 3
   },
   "file_extension": ".py",
   "mimetype": "text/x-python",
   "name": "python",
   "nbconvert_exporter": "python",
   "pygments_lexer": "ipython3",
   "version": "3.7.6"
  }
 },
 "nbformat": 4,
 "nbformat_minor": 4
}
